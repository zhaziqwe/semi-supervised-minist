{
 "cells": [
  {
   "attachments": {},
   "cell_type": "markdown",
   "metadata": {},
   "source": [
    "### 小组作业"
   ]
  },
  {
   "cell_type": "code",
   "execution_count": 270,
   "metadata": {},
   "outputs": [],
   "source": [
    "import numpy as np\n",
    "import matplotlib.pyplot as plt\n",
    "import torch\n",
    "import torch.nn as nn\n",
    "from torch.utils.data import Dataset, DataLoader\n",
    "import math\n",
    "from tqdm import tqdm\n",
    "import torch.nn.functional as F"
   ]
  },
  {
   "cell_type": "code",
   "execution_count": 271,
   "metadata": {},
   "outputs": [],
   "source": [
    "batch_size = 256\n",
    "device = 'cuda' if torch.cuda.is_available() else 'cpu'\n",
    "n_epochs = 25 #tqdm默认40代一起，所以40*25，1000代, 这玩意主要就是有进度条好看，没啥用\n",
    "learning_rate = 1e-4\n"
   ]
  },
  {
   "cell_type": "code",
   "execution_count": 272,
   "metadata": {},
   "outputs": [
    {
     "data": {
      "image/png": "[encoded data removed]",
      "text/plain": [
       "<Figure size 640x480 with 1 Axes>"
      ]
     },
     "metadata": {},
     "output_type": "display_data"
    },
    {
     "data": {
      "text/plain": [
       "(784, 10000)"
      ]
     },
     "execution_count": 272,
     "metadata": {},
     "output_type": "execute_result"
    }
   ],
   "source": [
    "# 载入npy文件\n",
    "data = np.load(\"train_x.npy\")\n",
    "# 使用Matplotlib可视化数据\n",
    "ex = data[:,0].reshape((28,28))\n",
    "plt.imshow(ex)\n",
    "plt.show()\n",
    "data.shape"
   ]
  },
  {
   "cell_type": "code",
   "execution_count": 273,
   "metadata": {},
   "outputs": [],
   "source": [
    "import torch\n",
    "import torch.nn as nn\n",
    "\n",
    "class CNN(nn.Module):\n",
    "    def __init__(self):\n",
    "        super(CNN, self).__init__()\n",
    "        \n",
    "        # 定义卷积层和池化层\n",
    "        self.conv1 = nn.Conv2d(1, 16, kernel_size=3, stride=1, padding=1)\n",
    "        self.relu1 = nn.ReLU()\n",
    "        self.maxpool1 = nn.MaxPool2d(kernel_size=2, stride=2)\n",
    "        \n",
    "        self.conv2 = nn.Conv2d(16, 32, kernel_size=3, stride=1, padding=1)\n",
    "        self.relu2 = nn.ReLU()\n",
    "        self.maxpool2 = nn.MaxPool2d(kernel_size=2, stride=2)\n",
    "        \n",
    "        # 定义全连接层\n",
    "        self.fc1 = nn.Linear(7 * 7 * 32, 128)\n",
    "        self.relu3 = nn.ReLU()\n",
    "        self.fc2 = nn.Linear(128, 10)\n",
    "        \n",
    "    def forward(self, x):\n",
    "        # 前向传播过程\n",
    "        x = self.conv1(x)\n",
    "        x = self.relu1(x)\n",
    "        x = self.maxpool1(x)\n",
    "        \n",
    "        x = self.conv2(x)\n",
    "        x = self.relu2(x)\n",
    "        x = self.maxpool2(x)\n",
    "        \n",
    "        x = x.view(x.size(0), -1)\n",
    "        \n",
    "        x = self.fc1(x)\n",
    "        x = self.relu3(x)\n",
    "        x = self.fc2(x)\n",
    "        \n",
    "        return x\n"
   ]
  },
  {
   "cell_type": "code",
   "execution_count": 274,
   "metadata": {},
   "outputs": [],
   "source": [
    "#数据加载转换tensor类\n",
    "class CNN_Dataset(Dataset):\n",
    "    '''\n",
    "    x: Features.\n",
    "    y: Targets, if none, do prediction.\n",
    "    '''\n",
    "    def __init__(self, x, y=None):\n",
    "        if y is None:\n",
    "            self.y = y\n",
    "        else:\n",
    "            self.y = torch.FloatTensor(y)\n",
    "        self.x = torch.FloatTensor(x)\n",
    "\n",
    "    def __getitem__(self, idx):\n",
    "        if self.y is None:\n",
    "            return self.x[idx]\n",
    "        else:\n",
    "            return self.x[idx], self.y[idx]\n",
    "\n",
    "    def __len__(self):\n",
    "        return len(self.x)\n"
   ]
  },
  {
   "cell_type": "code",
   "execution_count": 275,
   "metadata": {},
   "outputs": [],
   "source": [
    "train_y , test_y = np.load(\"train_y.npy\"),np.load(\"test_y.npy\")\n",
    "train_x , test_x = np.load(\"train_x.npy\").T.reshape((-1,1,28, 28)),np.load(\"test_x.npy\").T.reshape((-1,1, 28, 28))\n",
    "final_x = np.load(\"final_x.npy\").T.reshape((-1,1,28, 28))\n",
    "\n",
    "train_dataset, test_dataset = CNN_Dataset(\n",
    "    train_x, train_y), CNN_Dataset(test_x, test_y)\n",
    "final_dataset = CNN_Dataset(final_x,)\n",
    "\n",
    "train_loader = DataLoader(\n",
    "    train_dataset, batch_size=batch_size, shuffle=True, pin_memory=True)\n",
    "test_loader = DataLoader(\n",
    "    test_dataset, batch_size=batch_size, shuffle=False, pin_memory=True)\n",
    "final_loader =  DataLoader(\n",
    "    final_dataset, batch_size=batch_size, shuffle=False, pin_memory=True)\n"
   ]
  },
  {
   "cell_type": "code",
   "execution_count": 276,
   "metadata": {},
   "outputs": [],
   "source": [
    "model = CNN().to(device)\n",
    "criterion = nn.CrossEntropyLoss()\n",
    "optimizer = torch.optim.Adam(\n",
    "    model.parameters(), lr=learning_rate)\n",
    "\n"
   ]
  },
  {
   "cell_type": "code",
   "execution_count": 277,
   "metadata": {},
   "outputs": [],
   "source": [
    "\n",
    "#训练\n",
    "def trainer(train_loader, model,n_epochs , device):\n",
    "    step =0\n",
    "    loss_record = []\n",
    "    for epoch in range(n_epochs):\n",
    "        model.train()  # Set your model to train mode.\n",
    "        # tqdm is a package to visualize your training progress.\n",
    "        train_pbar = tqdm(train_loader, leave=False)\n",
    "        for x, y in train_pbar:\n",
    "            optimizer.zero_grad()               # Set gradient to zero.\n",
    "            x, y = x.to(device), y.type(torch.LongTensor).to(device)  # Move your data to device.\n",
    "            pred = model(x)\n",
    "            loss = criterion(pred, y)\n",
    "            # Compute gradient(backpropagation).\n",
    "            loss.backward()\n",
    "            optimizer.step()                    # Update parameters.\n",
    "            step += 1\n",
    "            loss_record.append(loss.detach().item())\n",
    "        mean_train_loss = sum(loss_record)/len(loss_record)\n",
    "        if(epoch+1)%50==0:\n",
    "            print(f'Epoch[{epoch+1}/{n_epochs}]: Train loss: {mean_train_loss: .8f}')\n",
    "    return loss_record"
   ]
  },
  {
   "cell_type": "code",
   "execution_count": 278,
   "metadata": {},
   "outputs": [],
   "source": [
    "def test(test_loader,model,device):\n",
    "    model.eval()  # Set your model to evaluation mode.\n",
    "    loss_record = []\n",
    "    predictions = []  # 用于存储预测值的列表\n",
    "    correct = 0\n",
    "    total = 0\n",
    "    for x, y in test_loader:\n",
    "        x, y = x.to(device), y.type(torch.LongTensor).to(device)\n",
    "        with torch.no_grad():\n",
    "            pred = model(x)\n",
    "            _, predicted_labels = torch.max(pred.data, 1)  # 获取预测的标签\n",
    "            predictions.extend(predicted_labels.cpu().numpy())  # 将预测值添加到列表中\n",
    "            total += y.size(0)  # 累计总样本数量\n",
    "            correct += (predicted_labels == y).sum().item()  # 统计正确预测的样本数量\n",
    "            loss = criterion(pred, y)\n",
    "        loss_record.append(loss.item())\n",
    "    mean_test_loss = sum(loss_record)/len(loss_record)\n",
    "    accuracy = correct / total  # 计算准确率\n",
    "    print(f'Test loss: {mean_test_loss:.8f}')\n",
    "    print(f'Accuracy: {accuracy * 100:.2f}%')\n",
    "    return predictions"
   ]
  },
  {
   "cell_type": "code",
   "execution_count": 285,
   "metadata": {},
   "outputs": [],
   "source": [
    "def final(final_loader,model,device):\n",
    "    model.eval()  # Set your model to evaluation mode.\n",
    "    predictions = []  # 用于存储预测值的列表\n",
    "    for x in final_loader:\n",
    "        x = x.to(device)\n",
    "        with torch.no_grad():\n",
    "            pred = model(x)\n",
    "            _, predicted_labels = torch.max(pred.data, 1)  # 获取预测的标签\n",
    "            predictions.extend(predicted_labels.cpu().numpy())  # 将预测值添加到列表中\n",
    "    return predictions"
   ]
  },
  {
   "cell_type": "code",
   "execution_count": 280,
   "metadata": {},
   "outputs": [
    {
     "name": "stderr",
     "output_type": "stream",
     "text": [
      "                                                \r"
     ]
    },
    {
     "data": {
      "image/png": "[encoded data removed]",
      "text/plain": [
       "<Figure size 640x480 with 1 Axes>"
      ]
     },
     "metadata": {},
     "output_type": "display_data"
    }
   ],
   "source": [
    "y_train_loss = trainer(train_loader,model,n_epochs,device)     # loss值，即y轴\n",
    "x_train_loss = range(len(y_train_loss))\t\t\t # loss的数量，即x轴\n",
    "plt.figure()\n",
    "\n",
    "# 去除顶部和右边框框\n",
    "ax = plt.axes()\n",
    "ax.spines['top'].set_visible(False)\n",
    "ax.spines['right'].set_visible(False)\n",
    "plt.rcParams[\"font.sans-serif\"] = [\"SimHei\"]  # 设置字体\n",
    "plt.rcParams[\"axes.unicode_minus\"] = False  # 正常显示负号\n",
    "\n",
    "plt.xlabel('iters')    # x轴标签\n",
    "plt.ylabel('loss')     # y轴标签\n",
    "\n",
    "# 以x_train_loss为横坐标，y_train_loss为纵坐标，曲线宽度为1，实线，增加标签，训练损失，\n",
    "plt.plot(x_train_loss, y_train_loss, linewidth=1,linestyle=\"solid\", label=\"train loss\")\n",
    "plt.legend()\n",
    "plt.title(\"损失函数\")\n",
    "plt.show()"
   ]
  },
  {
   "cell_type": "code",
   "execution_count": 281,
   "metadata": {},
   "outputs": [
    {
     "name": "stdout",
     "output_type": "stream",
     "text": [
      "Test loss: 0.09671872\n",
      "Accuracy: 97.26%\n"
     ]
    },
    {
     "data": {
      "image/png": "[encoded data removed]",
      "text/plain": [
       "<Figure size 640x480 with 1 Axes>"
      ]
     },
     "metadata": {},
     "output_type": "display_data"
    },
    {
     "name": "stdout",
     "output_type": "stream",
     "text": [
      "6\n"
     ]
    }
   ],
   "source": [
    "predict = test(test_loader,model,device)\n",
    "\n",
    "ex = np.load(\"test_x.npy\").T[0].reshape((28, 28))\n",
    "plt.imshow(ex)\n",
    "plt.show()\n",
    "print(predict[0])\n",
    "#成功预测\n"
   ]
  },
  {
   "cell_type": "code",
   "execution_count": 287,
   "metadata": {},
   "outputs": [
    {
     "data": {
      "image/png": "[encoded data removed]",
      "text/plain": [
       "<Figure size 640x480 with 1 Axes>"
      ]
     },
     "metadata": {},
     "output_type": "display_data"
    },
    {
     "name": "stdout",
     "output_type": "stream",
     "text": [
      "8\n"
     ]
    }
   ],
   "source": [
    "finalpre = final(final_loader,model,device)\n",
    "\n",
    "ex = np.load(\"final_x.npy\").T[0].reshape((28, 28))\n",
    "plt.imshow(ex)\n",
    "plt.show()\n",
    "print(finalpre[0])\n",
    "#成功预测"
   ]
  }
 ],
 "metadata": {
  "kernelspec": {
   "display_name": "Python 3",
   "language": "python",
   "name": "python3"
  },
  "language_info": {
   "codemirror_mode": {
    "name": "ipython",
    "version": 3
   },
   "file_extension": ".py",
   "mimetype": "text/x-python",
   "name": "python",
   "nbconvert_exporter": "python",
   "pygments_lexer": "ipython3",
   "version": "3.10.8"
  },
  "orig_nbformat": 4
 },
 "nbformat": 4,
 "nbformat_minor": 2
}
